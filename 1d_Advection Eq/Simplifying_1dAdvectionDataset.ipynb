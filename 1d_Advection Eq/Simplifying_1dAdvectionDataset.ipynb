{
  "nbformat": 4,
  "nbformat_minor": 0,
  "metadata": {
    "colab": {
      "provenance": []
    },
    "kernelspec": {
      "name": "python3",
      "display_name": "Python 3"
    },
    "language_info": {
      "name": "python"
    }
  },
  "cells": [
    {
      "cell_type": "code",
      "execution_count": null,
      "metadata": {
        "colab": {
          "base_uri": "https://localhost:8080/"
        },
        "id": "mmXrOzrSu2fG",
        "outputId": "a0d03377-c958-4c69-dbbf-881d7a69712f"
      },
      "outputs": [
        {
          "output_type": "stream",
          "name": "stdout",
          "text": [
            "Keys (datasets/groups) in the file:\n",
            "  - t-coordinate\n",
            "  - tensor\n",
            "  - x-coordinate\n",
            "\n",
            "Inspecting 't-coordinate':\n",
            "  Type: <class 'h5py._hl.dataset.Dataset'>\n",
            "  Shape: (202,)\n",
            "  Dtype: float32\n",
            "  Sample values (first few): [0.]\n",
            "\n",
            "Inspecting 'tensor':\n",
            "  Type: <class 'h5py._hl.dataset.Dataset'>\n",
            "  Shape: (10000, 201, 1024)\n",
            "  Dtype: float32\n",
            "  Sample values (first few): [0.8319239  0.83198327 0.8320075  0.83199656 0.83195037]\n",
            "\n",
            "Inspecting 'x-coordinate':\n",
            "  Type: <class 'h5py._hl.dataset.Dataset'>\n",
            "  Shape: (1024,)\n",
            "  Dtype: float32\n",
            "  Sample values (first few): [0.00048828]\n"
          ]
        }
      ],
      "source": [
        "import h5py\n",
        "\n",
        "# Replace this with your actual file path\n",
        "file_path = '/content/drive/MyDrive/1D_Advection_Sols_beta0.1.hdf5'\n",
        "\n",
        "with h5py.File(file_path, 'r') as f:\n",
        "    print(\"Keys (datasets/groups) in the file:\")\n",
        "    for key in f.keys():\n",
        "        print(f\"  - {key}\")\n",
        "\n",
        "    # Let's dig deeper into each key\n",
        "    for key in f.keys():\n",
        "        data = f[key]\n",
        "        print(f\"\\nInspecting '{key}':\")\n",
        "        print(f\"  Type: {type(data)}\")\n",
        "        print(f\"  Shape: {data.shape}\")\n",
        "        print(f\"  Dtype: {data.dtype}\")\n",
        "\n",
        "        # Optionally, peek at a few values\n",
        "        if isinstance(data, h5py.Dataset):\n",
        "            print(f\"  Sample values (first few): {data[0,...].flatten()[:5]}\")"
      ]
    },
    {
      "cell_type": "code",
      "source": [
        "import h5py\n",
        "import numpy as np\n",
        "\n",
        "# CONFIG\n",
        "input_file = \"/content/drive/MyDrive/1D_Advection_Sols_beta0.1.hdf5\"\n",
        "output_file = \"/content/drive/MyDrive/1D_Advection_Sols_beta0.1_reduced.hdf5\"\n",
        "x_stride = 4\n",
        "t_stride = 5\n",
        "\n",
        "# Load and downsample\n",
        "with h5py.File(input_file, \"r\") as f_in:\n",
        "    full_tensor = f_in[\"tensor\"][:, ::t_stride, ::x_stride]  # (10000, 40, 256)\n",
        "    t_coord = f_in[\"t-coordinate\"][::t_stride]               # (202,) → (41,)\n",
        "    x_coord = f_in[\"x-coordinate\"][::x_stride]               # (1024,) → (256,)\n",
        "\n",
        "    print(f\"Reduced tensor shape: {full_tensor.shape}\")\n",
        "    print(f\"Reduced time shape: {t_coord.shape}\")\n",
        "    print(f\"Reduced space shape: {x_coord.shape}\")\n",
        "\n",
        "    # Save to new HDF5 file\n",
        "    with h5py.File(output_file, \"w\") as f_out:\n",
        "        f_out.create_dataset(\"tensor\", data=full_tensor, dtype=\"float32\")\n",
        "        f_out.create_dataset(\"t-coordinate\", data=t_coord, dtype=\"float32\")\n",
        "        f_out.create_dataset(\"x-coordinate\", data=x_coord, dtype=\"float32\")\n",
        "\n",
        "print(\"✅ Reduced dataset saved to:\", output_file)"
      ],
      "metadata": {
        "colab": {
          "base_uri": "https://localhost:8080/"
        },
        "id": "FsP4bc_zxByk",
        "outputId": "46fdc6c2-930f-4b6a-a509-206798a861a3"
      },
      "execution_count": null,
      "outputs": [
        {
          "output_type": "stream",
          "name": "stdout",
          "text": [
            "Reduced tensor shape: (10000, 41, 256)\n",
            "Reduced time shape: (41,)\n",
            "Reduced space shape: (256,)\n",
            "✅ Reduced dataset saved to: /content/drive/MyDrive/1D_Advection_Sols_beta0.1_reduced.hdf5\n"
          ]
        }
      ]
    },
    {
      "cell_type": "code",
      "source": [],
      "metadata": {
        "id": "8KwN9Zlp3Rsc"
      },
      "execution_count": null,
      "outputs": []
    },
    {
      "cell_type": "code",
      "source": [],
      "metadata": {
        "id": "X3VOW9aW3RpB"
      },
      "execution_count": null,
      "outputs": []
    },
    {
      "cell_type": "code",
      "source": [],
      "metadata": {
        "id": "gPdGWmHx3RmI"
      },
      "execution_count": null,
      "outputs": []
    }
  ]
}