{
 "cells": [
  {
   "cell_type": "code",
   "execution_count": 1,
   "id": "567ddbf8",
   "metadata": {
    "colab": {
     "base_uri": "https://localhost:8080/"
    },
    "execution": {
     "iopub.execute_input": "2025-05-09T16:07:52.905584Z",
     "iopub.status.busy": "2025-05-09T16:07:52.905285Z",
     "iopub.status.idle": "2025-05-09T16:08:35.089142Z",
     "shell.execute_reply": "2025-05-09T16:08:35.088022Z"
    },
    "id": "5o1EuK3FgSqv",
    "outputId": "aafa7025-3e39-4a96-9c64-29967e98163b",
    "papermill": {
     "duration": 42.192695,
     "end_time": "2025-05-09T16:08:35.091156",
     "exception": false,
     "start_time": "2025-05-09T16:07:52.898461",
     "status": "completed"
    },
    "tags": []
   },
   "outputs": [
    {
     "name": "stdout",
     "output_type": "stream",
     "text": [
      "Cloning into 'BoundFNO'...\r\n",
      "remote: Enumerating objects: 640, done.\u001b[K\r\n",
      "remote: Counting objects: 100% (97/97), done.\u001b[K\r\n",
      "remote: Compressing objects: 100% (77/77), done.\u001b[K\r\n",
      "remote: Total 640 (delta 48), reused 62 (delta 20), pack-reused 543 (from 1)\u001b[K\r\n",
      "Receiving objects: 100% (640/640), 953.02 MiB | 39.60 MiB/s, done.\r\n",
      "Resolving deltas: 100% (326/326), done.\r\n",
      "Updating files: 100% (199/199), done.\r\n"
     ]
    }
   ],
   "source": [
    "!git clone https://github.com/mtrautner/BoundFNO.git"
   ]
  },
  {
   "cell_type": "code",
   "execution_count": 2,
   "id": "c1c2379c",
   "metadata": {
    "colab": {
     "base_uri": "https://localhost:8080/"
    },
    "execution": {
     "iopub.execute_input": "2025-05-09T16:08:35.117893Z",
     "iopub.status.busy": "2025-05-09T16:08:35.117570Z",
     "iopub.status.idle": "2025-05-09T16:08:35.126317Z",
     "shell.execute_reply": "2025-05-09T16:08:35.125439Z"
    },
    "id": "E5cTkfpSgj8m",
    "outputId": "9f226ff6-2834-448d-d4e4-1d3c85cda0af",
    "papermill": {
     "duration": 0.023716,
     "end_time": "2025-05-09T16:08:35.127601",
     "exception": false,
     "start_time": "2025-05-09T16:08:35.103885",
     "status": "completed"
    },
    "tags": []
   },
   "outputs": [
    {
     "name": "stdout",
     "output_type": "stream",
     "text": [
      "[Errno 2] No such file or directory: '/content/BoundFNO'\n",
      "/kaggle/working\n"
     ]
    }
   ],
   "source": [
    "%cd /content/BoundFNO"
   ]
  },
  {
   "cell_type": "code",
   "execution_count": 3,
   "id": "4bc9fc01",
   "metadata": {
    "colab": {
     "base_uri": "https://localhost:8080/"
    },
    "execution": {
     "iopub.execute_input": "2025-05-09T16:08:35.152340Z",
     "iopub.status.busy": "2025-05-09T16:08:35.151608Z",
     "iopub.status.idle": "2025-05-09T16:08:35.273227Z",
     "shell.execute_reply": "2025-05-09T16:08:35.271941Z"
    },
    "id": "417DxJDpgj53",
    "outputId": "3391b812-48ab-4c2a-cdc4-915fdc0b8e4a",
    "papermill": {
     "duration": 0.135857,
     "end_time": "2025-05-09T16:08:35.274954",
     "exception": false,
     "start_time": "2025-05-09T16:08:35.139097",
     "status": "completed"
    },
    "tags": []
   },
   "outputs": [
    {
     "name": "stdout",
     "output_type": "stream",
     "text": [
      "\u001b[0m\u001b[01;34mBoundFNO\u001b[0m/  __notebook__.ipynb\r\n"
     ]
    }
   ],
   "source": [
    "%ls"
   ]
  },
  {
   "cell_type": "code",
   "execution_count": 4,
   "id": "50ea5fbe",
   "metadata": {
    "colab": {
     "base_uri": "https://localhost:8080/"
    },
    "execution": {
     "iopub.execute_input": "2025-05-09T16:08:35.300011Z",
     "iopub.status.busy": "2025-05-09T16:08:35.299701Z",
     "iopub.status.idle": "2025-05-09T16:08:41.532246Z",
     "shell.execute_reply": "2025-05-09T16:08:41.531097Z"
    },
    "id": "G0y9xcUXhPaH",
    "outputId": "0ac33933-931f-46a0-f6da-afe7c31a87f7",
    "papermill": {
     "duration": 6.246932,
     "end_time": "2025-05-09T16:08:41.533727",
     "exception": false,
     "start_time": "2025-05-09T16:08:35.286795",
     "status": "completed"
    },
    "tags": []
   },
   "outputs": [
    {
     "name": "stdout",
     "output_type": "stream",
     "text": [
      "Requirement already satisfied: pyyaml in /usr/local/lib/python3.11/dist-packages (6.0.2)\r\n",
      "Collecting torch_geometric\r\n",
      "  Downloading torch_geometric-2.6.1-py3-none-any.whl.metadata (63 kB)\r\n",
      "\u001b[2K     \u001b[90m━━━━━━━━━━━━━━━━━━━━━━━━━━━━━━━━━━━━━━━━\u001b[0m \u001b[32m63.1/63.1 kB\u001b[0m \u001b[31m1.4 MB/s\u001b[0m eta \u001b[36m0:00:00\u001b[0m\r\n",
      "\u001b[?25hRequirement already satisfied: aiohttp in /usr/local/lib/python3.11/dist-packages (from torch_geometric) (3.11.16)\r\n",
      "Requirement already satisfied: fsspec in /usr/local/lib/python3.11/dist-packages (from torch_geometric) (2025.3.2)\r\n",
      "Requirement already satisfied: jinja2 in /usr/local/lib/python3.11/dist-packages (from torch_geometric) (3.1.6)\r\n",
      "Requirement already satisfied: numpy in /usr/local/lib/python3.11/dist-packages (from torch_geometric) (1.26.4)\r\n",
      "Requirement already satisfied: psutil>=5.8.0 in /usr/local/lib/python3.11/dist-packages (from torch_geometric) (7.0.0)\r\n",
      "Requirement already satisfied: pyparsing in /usr/local/lib/python3.11/dist-packages (from torch_geometric) (3.2.1)\r\n",
      "Requirement already satisfied: requests in /usr/local/lib/python3.11/dist-packages (from torch_geometric) (2.32.3)\r\n",
      "Requirement already satisfied: tqdm in /usr/local/lib/python3.11/dist-packages (from torch_geometric) (4.67.1)\r\n",
      "Requirement already satisfied: aiohappyeyeballs>=2.3.0 in /usr/local/lib/python3.11/dist-packages (from aiohttp->torch_geometric) (2.6.1)\r\n",
      "Requirement already satisfied: aiosignal>=1.1.2 in /usr/local/lib/python3.11/dist-packages (from aiohttp->torch_geometric) (1.3.2)\r\n",
      "Requirement already satisfied: attrs>=17.3.0 in /usr/local/lib/python3.11/dist-packages (from aiohttp->torch_geometric) (25.3.0)\r\n",
      "Requirement already satisfied: frozenlist>=1.1.1 in /usr/local/lib/python3.11/dist-packages (from aiohttp->torch_geometric) (1.5.0)\r\n",
      "Requirement already satisfied: multidict<7.0,>=4.5 in /usr/local/lib/python3.11/dist-packages (from aiohttp->torch_geometric) (6.2.0)\r\n",
      "Requirement already satisfied: propcache>=0.2.0 in /usr/local/lib/python3.11/dist-packages (from aiohttp->torch_geometric) (0.3.1)\r\n",
      "Requirement already satisfied: yarl<2.0,>=1.17.0 in /usr/local/lib/python3.11/dist-packages (from aiohttp->torch_geometric) (1.19.0)\r\n",
      "Requirement already satisfied: MarkupSafe>=2.0 in /usr/local/lib/python3.11/dist-packages (from jinja2->torch_geometric) (3.0.2)\r\n",
      "Requirement already satisfied: mkl_fft in /usr/local/lib/python3.11/dist-packages (from numpy->torch_geometric) (1.3.8)\r\n",
      "Requirement already satisfied: mkl_random in /usr/local/lib/python3.11/dist-packages (from numpy->torch_geometric) (1.2.4)\r\n",
      "Requirement already satisfied: mkl_umath in /usr/local/lib/python3.11/dist-packages (from numpy->torch_geometric) (0.1.1)\r\n",
      "Requirement already satisfied: mkl in /usr/local/lib/python3.11/dist-packages (from numpy->torch_geometric) (2025.1.0)\r\n",
      "Requirement already satisfied: tbb4py in /usr/local/lib/python3.11/dist-packages (from numpy->torch_geometric) (2022.1.0)\r\n",
      "Requirement already satisfied: mkl-service in /usr/local/lib/python3.11/dist-packages (from numpy->torch_geometric) (2.4.1)\r\n",
      "Requirement already satisfied: charset-normalizer<4,>=2 in /usr/local/lib/python3.11/dist-packages (from requests->torch_geometric) (3.4.1)\r\n",
      "Requirement already satisfied: idna<4,>=2.5 in /usr/local/lib/python3.11/dist-packages (from requests->torch_geometric) (3.10)\r\n",
      "Requirement already satisfied: urllib3<3,>=1.21.1 in /usr/local/lib/python3.11/dist-packages (from requests->torch_geometric) (2.3.0)\r\n",
      "Requirement already satisfied: certifi>=2017.4.17 in /usr/local/lib/python3.11/dist-packages (from requests->torch_geometric) (2025.1.31)\r\n",
      "Requirement already satisfied: intel-openmp<2026,>=2024 in /usr/local/lib/python3.11/dist-packages (from mkl->numpy->torch_geometric) (2024.2.0)\r\n",
      "Requirement already satisfied: tbb==2022.* in /usr/local/lib/python3.11/dist-packages (from mkl->numpy->torch_geometric) (2022.1.0)\r\n",
      "Requirement already satisfied: tcmlib==1.* in /usr/local/lib/python3.11/dist-packages (from tbb==2022.*->mkl->numpy->torch_geometric) (1.2.0)\r\n",
      "Requirement already satisfied: intel-cmplr-lib-rt in /usr/local/lib/python3.11/dist-packages (from mkl_umath->numpy->torch_geometric) (2024.2.0)\r\n",
      "Requirement already satisfied: intel-cmplr-lib-ur==2024.2.0 in /usr/local/lib/python3.11/dist-packages (from intel-openmp<2026,>=2024->mkl->numpy->torch_geometric) (2024.2.0)\r\n",
      "Downloading torch_geometric-2.6.1-py3-none-any.whl (1.1 MB)\r\n",
      "\u001b[2K   \u001b[90m━━━━━━━━━━━━━━━━━━━━━━━━━━━━━━━━━━━━━━━━\u001b[0m \u001b[32m1.1/1.1 MB\u001b[0m \u001b[31m17.7 MB/s\u001b[0m eta \u001b[36m0:00:00\u001b[0m\r\n",
      "\u001b[?25hInstalling collected packages: torch_geometric\r\n",
      "Successfully installed torch_geometric-2.6.1\r\n",
      "Note: you may need to restart the kernel to use updated packages.\n"
     ]
    }
   ],
   "source": [
    "pip install pyyaml torch_geometric"
   ]
  },
  {
   "cell_type": "code",
   "execution_count": 5,
   "id": "1b704a46",
   "metadata": {
    "execution": {
     "iopub.execute_input": "2025-05-09T16:08:41.562469Z",
     "iopub.status.busy": "2025-05-09T16:08:41.562105Z",
     "iopub.status.idle": "2025-05-09T16:08:41.638928Z",
     "shell.execute_reply": "2025-05-09T16:08:41.637798Z"
    },
    "id": "weMAMTHMiC9u",
    "papermill": {
     "duration": 0.09249,
     "end_time": "2025-05-09T16:08:41.640354",
     "exception": true,
     "start_time": "2025-05-09T16:08:41.547864",
     "status": "failed"
    },
    "tags": []
   },
   "outputs": [
    {
     "ename": "ModuleNotFoundError",
     "evalue": "No module named 'analysis'",
     "output_type": "error",
     "traceback": [
      "\u001b[0;31m---------------------------------------------------------------------------\u001b[0m",
      "\u001b[0;31mModuleNotFoundError\u001b[0m                       Traceback (most recent call last)",
      "\u001b[0;32m/tmp/ipykernel_13/507539617.py\u001b[0m in \u001b[0;36m<cell line: 0>\u001b[0;34m()\u001b[0m\n\u001b[0;32m----> 1\u001b[0;31m \u001b[0;32mfrom\u001b[0m \u001b[0manalysis\u001b[0m\u001b[0;34m.\u001b[0m\u001b[0meval_model_helpers\u001b[0m \u001b[0;32mimport\u001b[0m \u001b[0;34m*\u001b[0m\u001b[0;34m\u001b[0m\u001b[0;34m\u001b[0m\u001b[0m\n\u001b[0m\u001b[1;32m      2\u001b[0m \u001b[0;32mfrom\u001b[0m \u001b[0mutil\u001b[0m\u001b[0;34m.\u001b[0m\u001b[0mutilities_module\u001b[0m \u001b[0;32mimport\u001b[0m \u001b[0;34m*\u001b[0m\u001b[0;34m\u001b[0m\u001b[0;34m\u001b[0m\u001b[0m\n\u001b[1;32m      3\u001b[0m \u001b[0;32mfrom\u001b[0m \u001b[0mgen_GRF\u001b[0m \u001b[0;32mimport\u001b[0m \u001b[0;34m*\u001b[0m\u001b[0;34m\u001b[0m\u001b[0;34m\u001b[0m\u001b[0m\n\u001b[1;32m      4\u001b[0m \u001b[0;32mimport\u001b[0m \u001b[0mtorch\u001b[0m\u001b[0;34m\u001b[0m\u001b[0;34m\u001b[0m\u001b[0m\n\u001b[1;32m      5\u001b[0m \u001b[0;32mimport\u001b[0m \u001b[0mmatplotlib\u001b[0m\u001b[0;34m.\u001b[0m\u001b[0mpyplot\u001b[0m \u001b[0;32mas\u001b[0m \u001b[0mplt\u001b[0m\u001b[0;34m\u001b[0m\u001b[0;34m\u001b[0m\u001b[0m\n",
      "\u001b[0;31mModuleNotFoundError\u001b[0m: No module named 'analysis'"
     ]
    }
   ],
   "source": [
    "from analysis.eval_model_helpers import *\n",
    "from util.utilities_module import *\n",
    "from gen_GRF import *\n",
    "import torch\n",
    "import matplotlib.pyplot as plt\n",
    "import matplotlib\n",
    "import numpy as np"
   ]
  },
  {
   "cell_type": "code",
   "execution_count": null,
   "id": "7f053046",
   "metadata": {
    "id": "OYF9tlA9JiYk",
    "papermill": {
     "duration": null,
     "end_time": null,
     "exception": null,
     "start_time": null,
     "status": "pending"
    },
    "tags": []
   },
   "outputs": [],
   "source": [
    "import torch\n",
    "import torch.nn as nn\n",
    "import torch.nn.functional as F\n",
    "import pdb\n",
    "import sys\n",
    "import os\n",
    "sys.path.append(os.path.join('..'))\n",
    "from models.shared import SpectralConv2d, projector2d, get_grid2d, _get_act, MLP\n",
    "\n",
    "def undo_padding(layer,padding):\n",
    "    \"\"\"\n",
    "    padding         (int or float): (1.0/padding) is fraction of domain to zero pad (non-periodic)\n",
    "    layers         (torch tensor): dims (batch, channels, x, y) where x and y are padded\n",
    "    grid_size* (1+ 1/padding) = x (or y) where grid_size is the size of the grid in the original domain (before padding)\n",
    "    assumes square grid\n",
    "    \"\"\"\n",
    "    # num_pad = layer.shape[-1]//padding\n",
    "    orig_dim = int(layer.shape[-1]//(1+1/padding))\n",
    "    num_pad = layer.shape[-1] - orig_dim\n",
    "    layer_out = layer[...,:-num_pad,:-num_pad]\n",
    "    return layer_out\n",
    "\n",
    "class FNO2d(nn.Module):\n",
    "    \"\"\"\n",
    "    Fourier Neural Operator for mapping functions to functions\n",
    "    \"\"\"\n",
    "    def __init__(self,\n",
    "                 modes1=12,\n",
    "                 modes2=12,\n",
    "                 width=32,\n",
    "                 s_outputspace=(2048, 2048),\n",
    "                 width_final=128,\n",
    "                 padding=8,\n",
    "                 d_in=1,\n",
    "                 d_out=1,\n",
    "                 act='gelu',\n",
    "                 n_layers=4,\n",
    "                 get_grid=False,\n",
    "                 periodic_grid = True\n",
    "                 ):\n",
    "        \"\"\"\n",
    "        modes1, modes2  (int): Fourier mode truncation levels\n",
    "        width           (int): constant dimension of channel space\n",
    "        s_outputspace   (list or tuple, length 2): desired spatial resolution (s,s) in output space\n",
    "        width_final     (int): width of the final projection layer\n",
    "        padding         (int or float): (1.0/padding) is fraction of domain to zero pad (non-periodic)\n",
    "        d_in            (int): number of input channels (NOT including grid input features)\n",
    "        d_out           (int): number of output channels (co-domain dimension of output space functions)\n",
    "        act             (str): Activation function = tanh, relu, gelu, elu, or leakyrelu\n",
    "        n_layers        (int): Number of Fourier Layers, by default 4\n",
    "        get_grid        (bool): Whether or not append grid coordinate as a feature for the input\n",
    "        \"\"\"\n",
    "        super(FNO2d, self).__init__()\n",
    "\n",
    "        self.d_physical = 2\n",
    "        self.modes1 = modes1\n",
    "        self.modes2 = modes2\n",
    "        self.width = width\n",
    "        self.width_final = width_final\n",
    "        self.padding = padding\n",
    "        self.d_in = d_in\n",
    "        self.d_out = d_out\n",
    "        self.act = _get_act(act)\n",
    "        self.n_layers = n_layers\n",
    "        self.get_grid = get_grid\n",
    "        self.periodic_grid = periodic_grid\n",
    "        if self.n_layers is None:\n",
    "            self.n_layers = 4\n",
    "\n",
    "        self.set_outputspace_resolution((2048,2048))\n",
    "\n",
    "        self.fc0 = nn.Linear((self.d_in + (1+1*self.periodic_grid)*self.d_physical if get_grid else self.d_in), self.width)\n",
    "        self.speconvs = nn.ModuleList([\n",
    "            SpectralConv2d(self.width, self.width, self.modes1, self.modes2)\n",
    "                for _ in range(self.n_layers)]\n",
    "            )\n",
    "\n",
    "        self.ws = nn.ModuleList([\n",
    "            nn.Conv2d(self.width, self.width, 1)\n",
    "                for _ in range(self.n_layers)]\n",
    "            )\n",
    "\n",
    "        self.mlp0 = MLP(self.width, self.width_final, self.d_out, act)\n",
    "\n",
    "    def forward(self, x, invasive = False,USE_CUDA = False):\n",
    "        \"\"\"\n",
    "        Input shape (of x):     (batch, channels_in, nx_in, ny_in)\n",
    "        Output shape:           (batch, channels_out, nx_out, ny_out)\n",
    "\n",
    "        The input resolution is determined by x.shape[-2:]\n",
    "        The output resolution is determined by self.s_outputspace\n",
    "        \"\"\"\n",
    "        # Lifting layer\n",
    "\n",
    "        x_res = x.shape[-2:]\n",
    "        x = x.permute(0, 2, 3, 1)\n",
    "        if self.get_grid:\n",
    "            x = torch.cat((x, get_grid2d(x.shape, x.device,periodic = self.periodic_grid)), dim=-1)   # grid ``features''\n",
    "\n",
    "        if USE_CUDA:\n",
    "            x = x.cuda()\n",
    "\n",
    "        x = self.fc0(x)\n",
    "        x = x.permute(0, 3, 1, 2)\n",
    "\n",
    "        # Collect layer outputs\n",
    "        if invasive:\n",
    "            layer_outputs = []\n",
    "\n",
    "        # # Map from input domain into the torus\n",
    "        x_res_padded_space = (x_res[-1] + x_res[-1]//self.padding, x_res[-2] + x_res[-2]//self.padding)\n",
    "\n",
    "        # Fourier integral operator layers on the torus\n",
    "        for idx_layer, (speconv, w) in enumerate(zip(self.speconvs, self.ws)):\n",
    "            if idx_layer != self.n_layers - 1:\n",
    "                if invasive:\n",
    "                    x_high_res =  speconv(x, s=self.s_outputspace) + w(projector2d(x, s=self.s_outputspace))\n",
    "                    x_high_res = self.act(x_high_res)\n",
    "\n",
    "                x = speconv(x, s= x_res_padded_space) + w(projector2d(x, s= x_res_padded_space))\n",
    "                x = self.act(x)\n",
    "                if invasive:\n",
    "                    x_high_res = x_high_res[..., :-self.num_pad_outputspace[-2], :-self.num_pad_outputspace[-1]] # removes padding\n",
    "                    layer_outputs.append(x_high_res.cpu())\n",
    "            else:\n",
    "                # Change resolution in function space consistent way\n",
    "                x = speconv(x, s=self.s_outputspace) + w(projector2d(x, s=self.s_outputspace))\n",
    "\n",
    "        # Map from the torus into the output domain\n",
    "        if self.s_outputspace is not None:\n",
    "            x = x[..., :-self.num_pad_outputspace[-2], :-self.num_pad_outputspace[-1]]\n",
    "        else:\n",
    "            x = x[..., :-(x_res[-2]//self.padding), :-(x_res[-1]//self.padding)]\n",
    "\n",
    "        # Final projection layer\n",
    "        x = x.permute(0, 2, 3, 1)\n",
    "        x = self.mlp0(x)\n",
    "\n",
    "        if invasive:\n",
    "            x = x.permute(0, 3, 1, 2)\n",
    "            return layer_outputs\n",
    "        if not invasive:\n",
    "            return x.permute(0, 3, 1, 2)\n",
    "\n",
    "    def set_outputspace_resolution(self, s=None):\n",
    "        \"\"\"\n",
    "        Helper to set desired output space resolution of the model at any time\n",
    "        \"\"\"\n",
    "        if s is None:\n",
    "            self.s_outputspace = None\n",
    "            self.num_pad_outputspace = None\n",
    "        else:\n",
    "            self.s_outputspace = tuple([r + r//self.padding for r in list(s)])\n",
    "            self.num_pad_outputspace = tuple([r//self.padding for r in list(s)])"
   ]
  },
  {
   "cell_type": "code",
   "execution_count": null,
   "id": "85547f92",
   "metadata": {
    "id": "iRHrfbp8PXi4",
    "papermill": {
     "duration": null,
     "end_time": null,
     "exception": null,
     "start_time": null,
     "status": "pending"
    },
    "tags": []
   },
   "outputs": [],
   "source": [
    "import torch\n",
    "import torch.nn as nn\n",
    "import torch.nn.functional as F\n",
    "import os\n",
    "import sys\n",
    "sys.path.append(os.path.join('..'))"
   ]
  },
  {
   "cell_type": "code",
   "execution_count": null,
   "id": "b2b08991",
   "metadata": {
    "id": "fBXRqncUKpw8",
    "papermill": {
     "duration": null,
     "end_time": null,
     "exception": null,
     "start_time": null,
     "status": "pending"
    },
    "tags": []
   },
   "outputs": [],
   "source": [
    "class MLP(nn.Module):\n",
    "    \"\"\"\n",
    "    MLP with two inputs. Each input passes through a separate linear layer,\n",
    "    then their outputs are multiplied before passing through the final layer.\n",
    "    \"\"\"\n",
    "    def __init__(self, channels_in, channels_hid, channels_out):\n",
    "        super(MLP, self).__init__()\n",
    "\n",
    "        # Separate linear layers for each input\n",
    "        self.fc1_value = nn.Linear(channels_in, channels_hid)\n",
    "        self.fc1_gate = nn.Linear(channels_in, channels_hid)\n",
    "\n",
    "        # Final layer\n",
    "        self.fc2 = nn.Linear(channels_hid, channels_out)\n",
    "\n",
    "    def forward(self, value_x, gate_x):\n",
    "        \"\"\"\n",
    "        Inputs:\n",
    "        - value_x: Tensor of shape (..., channels_in)\n",
    "        - gate_x: Tensor of shape (..., channels_in)\n",
    "\n",
    "        Output:\n",
    "        - Tensor of shape (..., channels_out)\n",
    "        \"\"\"\n",
    "        value_out = self.fc1_value(value_x)\n",
    "        gate_out = self.fc1_gate(gate_x)\n",
    "\n",
    "        # Multiply the two outputs element-wise\n",
    "        x = value_out * gate_out\n",
    "        # Final linear layer\n",
    "        x = self.fc2(x)\n",
    "\n",
    "        return x"
   ]
  },
  {
   "cell_type": "code",
   "execution_count": null,
   "id": "556ed84a",
   "metadata": {
    "id": "RvzpKHul8Dqn",
    "papermill": {
     "duration": null,
     "end_time": null,
     "exception": null,
     "start_time": null,
     "status": "pending"
    },
    "tags": []
   },
   "outputs": [],
   "source": [
    "from models.shared import SpectralConv2d, projector2d, get_grid2d, _get_act\n",
    "\n",
    "def undo_padding(layer, padding):\n",
    "    orig_dim = int(layer.shape[-1] // (1 + 1 / padding))\n",
    "    num_pad = layer.shape[-1] - orig_dim\n",
    "    return layer[..., :-num_pad, :-num_pad]\n",
    "\n",
    "class GatedFNO2d(nn.Module):\n",
    "    def __init__(self, modes1=12, modes2=12, width=32, s_outputspace=None, width_final=128,\n",
    "                 padding=8, d_in=1, d_out=1, act='gelu', n_layers=4, get_grid=False, periodic_grid=True):\n",
    "        super(GatedFNO2d, self).__init__()\n",
    "\n",
    "        self.d_physical = 2\n",
    "        self.modes1 = modes1\n",
    "        self.modes2 = modes2\n",
    "        self.width = width\n",
    "        self.width_final = width_final\n",
    "        self.padding = padding\n",
    "        self.d_in = d_in\n",
    "        self.d_out = d_out\n",
    "        self.act = _get_act(act)\n",
    "        self.n_layers = n_layers if n_layers is not None else 4\n",
    "        self.get_grid = get_grid\n",
    "        self.periodic_grid = periodic_grid\n",
    "\n",
    "        self.set_outputspace_resolution(s_outputspace)\n",
    "\n",
    "        self.fc0 = nn.Linear((self.d_in + (1 + 1 * self.periodic_grid) * self.d_physical if get_grid else self.d_in), self.width)\n",
    "\n",
    "        self.speconvs = nn.ModuleList([SpectralConv2d(self.width, self.width, self.modes1, self.modes2) for _ in range(self.n_layers)])\n",
    "        self.ws = nn.ModuleList([nn.Conv2d(self.width, self.width, 1) for _ in range(self.n_layers)])\n",
    "\n",
    "        # Gating network\n",
    "        self.gate_fc0 = nn.Linear((self.d_in + (1 + 1 * self.periodic_grid) * self.d_physical if get_grid else self.d_in), self.width)\n",
    "        self.gate_speconvs = nn.ModuleList([SpectralConv2d(self.width, self.width, self.modes1, self.modes2) for _ in range(self.n_layers)])\n",
    "        self.gate_ws = nn.ModuleList([nn.Conv2d(self.width, self.width, 1) for _ in range(self.n_layers)])\n",
    "\n",
    "        self.mlp0 = MLP(self.width, self.width_final, self.d_out)\n",
    "\n",
    "    def forward(self, x, invasive = False,USE_CUDA = False):\n",
    "        \"\"\"\n",
    "        Input shape (of x):     (batch, channels_in, nx_in, ny_in)\n",
    "        Output shape:           (batch, channels_out, nx_out, ny_out)\n",
    "\n",
    "        The input resolution is determined by x.shape[-2:]\n",
    "        The output resolution is determined by self.s_outputspace\n",
    "        \"\"\"\n",
    "        # Lifting layer\n",
    "\n",
    "        x_res = x.shape[-2:]\n",
    "        x = x.permute(0, 2, 3, 1)\n",
    "        if self.get_grid:\n",
    "            x = torch.cat((x, get_grid2d(x.shape, x.device,periodic = self.periodic_grid)), dim=-1)   # grid ``features''\n",
    "\n",
    "        if USE_CUDA:\n",
    "            x = x.cuda()\n",
    "\n",
    "        value_x = torch.ones_like(x)\n",
    "        value_x = self.fc0(value_x)\n",
    "        value_x = value_x.permute(0, 3, 1, 2)\n",
    "\n",
    "        gate_x = self.fc0(x)\n",
    "        gate_x = gate_x.permute(0, 3, 1, 2)\n",
    "\n",
    "        # Collect layer outputs\n",
    "        if invasive:\n",
    "            layer_outputs = []\n",
    "\n",
    "        # # Map from input domain into the torus\n",
    "        x_res_padded_space = (x_res[-1] + x_res[-1]//self.padding, x_res[-2] + x_res[-2]//self.padding)\n",
    "\n",
    "        # Fourier integral operator layers on the torus\n",
    "        for idx_layer, (gate_speconv, gate_w, speconv, w) in enumerate(zip(self.gate_speconvs, self.gate_ws, self.speconvs, self.ws)):\n",
    "            if idx_layer != self.n_layers - 1:\n",
    "                if invasive:\n",
    "                    value_x_high_res =  speconv(value_x, s=self.s_outputspace) + w(projector2d(value_x, s=self.s_outputspace))\n",
    "                    gate_x_high_res = gate_speconv(gate_x, s=self.s_outputspace) + gate_w(projector2d(gate_x, s=self.s_outputspace))\n",
    "                    value_x_high_res = value_x_high_res * gate_x_high_res\n",
    "\n",
    "                value_x = speconv(value_x, s= x_res_padded_space) + w(projector2d(value_x, s= x_res_padded_space))\n",
    "                gate_x = gate_speconv(gate_x, s= x_res_padded_space) + gate_w(projector2d(gate_x, s= x_res_padded_space))\n",
    "                value_x = value_x * gate_x\n",
    "                if invasive:\n",
    "                    value_x_high_res = value_x_high_res[..., :-self.num_pad_outputspace[-2], :-self.num_pad_outputspace[-1]] # removes padding\n",
    "                    layer_outputs.append(value_x_high_res.cpu())\n",
    "            else:\n",
    "                # Change resolution in function space consistent way\n",
    "                value_x = speconv(value_x, s= x_res_padded_space) + w(projector2d(value_x, s= x_res_padded_space))\n",
    "                gate_x = gate_speconv(gate_x, s= x_res_padded_space) + gate_w(projector2d(gate_x, s= x_res_padded_space))\n",
    "                value_x = value_x * gate_x\n",
    "\n",
    "        # Map from the torus into the output domain\n",
    "        if self.s_outputspace is not None:\n",
    "            value_x = value_x[..., :-self.num_pad_outputspace[-2], :-self.num_pad_outputspace[-1]]\n",
    "            gate_x = gate_x[..., :-self.num_pad_outputspace[-2], :-self.num_pad_outputspace[-1]]\n",
    "        else:\n",
    "            gate_x = gate_x[..., :-(x_res[-2]//self.padding), :-(x_res[-1]//self.padding)]\n",
    "            value_x = value_x[..., :-(x_res[-2]//self.padding), :-(x_res[-1]//self.padding)]\n",
    "\n",
    "        # Final projection layer\n",
    "        value_x = value_x.permute(0, 2, 3, 1)\n",
    "        gate_x = gate_x.permute(0, 2, 3, 1)\n",
    "        x = self.mlp0(value_x, gate_x)\n",
    "\n",
    "        if invasive:\n",
    "            x = x.permute(0, 3, 1, 2)\n",
    "            return layer_outputs\n",
    "        if not invasive:\n",
    "            return x.permute(0, 3, 1, 2)\n",
    "\n",
    "    def set_outputspace_resolution(self, s=None):\n",
    "        if s is None:\n",
    "            self.s_outputspace = None\n",
    "            self.num_pad_outputspace = None\n",
    "        else:\n",
    "            self.s_outputspace = tuple([r + r // self.padding for r in list(s)])\n",
    "            self.num_pad_outputspace = tuple([r // self.padding for r in list(s)])"
   ]
  },
  {
   "cell_type": "code",
   "execution_count": null,
   "id": "94e897d8",
   "metadata": {
    "id": "DkcXtvxaiJ1y",
    "papermill": {
     "duration": null,
     "end_time": null,
     "exception": null,
     "start_time": null,
     "status": "pending"
    },
    "tags": []
   },
   "outputs": [],
   "source": [
    "matplotlib.rcParams['mathtext.fontset'] = 'stix'\n",
    "matplotlib.rcParams['font.family'] = ['Dejavu Serif'] #'STIXGeneral'\n",
    "matplotlib.rcParams['mathtext.fontset'] = 'custom'\n",
    "CB_color_cycle = ['#377eb8', '#ff7f00', '#4daf4a',\n",
    "                  '#f781bf', '#a65628', '#984ea3',\n",
    "                  '#999999', '#e41a1c', '#dede00',\n",
    "                    '#000000']\n",
    "matplotlib.rcParams['mathtext.rm'] = 'stix'\n",
    "matplotlib.rcParams['mathtext.it'] = 'stix'\n",
    "matplotlib.rcParams['mathtext.bf'] = 'stix'\n",
    "\n",
    "\n",
    "matplotlib.rcParams[\"axes.formatter.limits\"] = (-99, 99) #makes scientific notation threshold high\n",
    "plt.rcParams['font.family'] = 'Dejavu Serif'\n",
    "plt.rcParams['font.serif'] = ['Times'] #['Times New Roman']  # 'DejaVu Serif' 'serif' 'Times\n",
    "\n",
    "tickfontsize = 25\n",
    "fontsize = 25\n",
    "linewidth = 4\n",
    "markersize = 15\n",
    "\n",
    "SMALL_SIZE = tickfontsize\n",
    "MEDIUM_SIZE = tickfontsize\n",
    "BIGGER_SIZE = fontsize\n",
    "\n",
    "plt.rc('font', size=SMALL_SIZE)          # controls default text sizes\n",
    "plt.rc('axes', titlesize=MEDIUM_SIZE)     # fontsize of the axes title\n",
    "plt.rc('axes', labelsize=MEDIUM_SIZE)    # fontsize of the x and y labels\n",
    "plt.rc('xtick', labelsize=MEDIUM_SIZE)    # fontsize of the tick labels\n",
    "plt.rc('ytick', labelsize=MEDIUM_SIZE)    # fontsize of the tick labels\n",
    "plt.rc('legend', fontsize=MEDIUM_SIZE)    # legend fontsize\n",
    "plt.rc('figure', titlesize=BIGGER_SIZE)  # fontsize of the figure title\n",
    "\n",
    "shapes = ['o','s','^','D','*', 'x', 'P', 'h', 'v', '<', '>', 'X', 'd', 'p', '|', '_', '.', ',']"
   ]
  },
  {
   "cell_type": "code",
   "execution_count": null,
   "id": "3ed98cdf",
   "metadata": {
    "id": "kBiTsfHpiJy4",
    "papermill": {
     "duration": null,
     "end_time": null,
     "exception": null,
     "start_time": null,
     "status": "pending"
    },
    "tags": []
   },
   "outputs": [],
   "source": [
    "# Generate data (GRF inputs)\n",
    "s_vals = [ 1, 2]"
   ]
  },
  {
   "cell_type": "code",
   "execution_count": null,
   "id": "ea43fdd5",
   "metadata": {
    "id": "eRj7okqSVdW8",
    "papermill": {
     "duration": null,
     "end_time": null,
     "exception": null,
     "start_time": null,
     "status": "pending"
    },
    "tags": []
   },
   "outputs": [],
   "source": [
    "/content/BoundFNO/data/GRF_s1/GRF_size_1024_0.pkl"
   ]
  },
  {
   "cell_type": "code",
   "execution_count": null,
   "id": "b6ccd61f",
   "metadata": {
    "id": "cr-vj_AyiJv-",
    "papermill": {
     "duration": null,
     "end_time": null,
     "exception": null,
     "start_time": null,
     "status": "pending"
    },
    "tags": []
   },
   "outputs": [],
   "source": [
    "# process input arguments\n",
    "sizes = [64, 128,256, 512, 1024, 2048]\n",
    "sample_count = 5\n",
    "for s in s_vals:\n",
    "    for n in range(sample_count):\n",
    "        gfields = gaussian_random_field(s, sizes = sizes)\n",
    "        # save GRF\n",
    "        for i, size in enumerate(sizes):\n",
    "            Z = gfields[i]\n",
    "            pkl.dump(Z, open(\"data/GRF_s\"+  str(s) + \"/GRF_size_\" + str(size) + \"_\" + str(n) + \".pkl\", \"wb\"))"
   ]
  },
  {
   "cell_type": "code",
   "execution_count": null,
   "id": "90b58041",
   "metadata": {
    "colab": {
     "base_uri": "https://localhost:8080/",
     "height": 795
    },
    "collapsed": true,
    "id": "zO-0hwQkiJtS",
    "outputId": "4c66b585-b7d9-4f5a-c49e-cbe9a17e95e5",
    "papermill": {
     "duration": null,
     "end_time": null,
     "exception": null,
     "start_time": null,
     "status": "pending"
    },
    "tags": []
   },
   "outputs": [],
   "source": [
    "# Plot GRFs\n",
    "fig, ax = plt.subplots(5, 8, figsize=(30, 15))\n",
    "for i, s in enumerate(s_vals):\n",
    "    for j, size in enumerate(sizes[:-1]):\n",
    "        Z = pkl.load(open(\"/content/BoundFNO/data/GRF_s\"+  str(s) + \"/GRF_size_\" + str(size) + \"_0.pkl\", \"rb\"))\n",
    "        ax[i, j].imshow(Z, cmap='viridis')\n",
    "        ax[i, j].set_title(\"s = \" + str(s) + \" size = \" + str(size))\n",
    "        ax[i, j].axis('off')"
   ]
  },
  {
   "cell_type": "code",
   "execution_count": null,
   "id": "f18114e9",
   "metadata": {
    "id": "iAZrnl65-YTt",
    "papermill": {
     "duration": null,
     "end_time": null,
     "exception": null,
     "start_time": null,
     "status": "pending"
    },
    "tags": []
   },
   "outputs": [],
   "source": [
    "os.makedirs('models/untrained_models/', exist_ok=True)\n",
    "os.makedirs('Figures/figure-data/', exist_ok=True)"
   ]
  },
  {
   "cell_type": "code",
   "execution_count": null,
   "id": "0afa7faa",
   "metadata": {
    "id": "TI4JSEJAiJqa",
    "papermill": {
     "duration": null,
     "end_time": null,
     "exception": null,
     "start_time": null,
     "status": "pending"
    },
    "tags": []
   },
   "outputs": [],
   "source": [
    "def generate_initial_model(modes, width, device, get_grid=False,n_layers = 4,act = 'gelu',periodic_grid = True):\n",
    "    '''\n",
    "    Generates a random initial model for the FNO model\n",
    "    '''\n",
    "    model = FNO2d(modes1 = modes, modes2 = modes, width = width, s_outputspace=(2048, 2048), get_grid = get_grid, act = act, n_layers = n_layers, periodic_grid=periodic_grid).to(device)\n",
    "    return model\n",
    "\n",
    "def save_model_info(K,width,device,get_grid,n_layers,model_name, act = 'gelu',initialization = 'default',periodic = 'False'):\n",
    "    model_info = 'models/untrained_models/' + model_name + '_info.yaml'\n",
    "    with open(model_info, 'w') as file:\n",
    "        yaml.dump({'K': K, 'width': width, 'device': device, 'get_grid': get_grid, 'n_layers': n_layers,'act': act,'initialization': initialization,'periodic_grid': periodic}, file)"
   ]
  },
  {
   "cell_type": "code",
   "execution_count": null,
   "id": "03913a5f",
   "metadata": {
    "id": "w5aiZt0ViJnT",
    "papermill": {
     "duration": null,
     "end_time": null,
     "exception": null,
     "start_time": null,
     "status": "pending"
    },
    "tags": []
   },
   "outputs": [],
   "source": [
    "K = 12\n",
    "width = 32\n",
    "device = 'cpu'\n",
    "get_grid = False\n",
    "n_layers = 4\n",
    "SEED = 1989"
   ]
  },
  {
   "cell_type": "code",
   "execution_count": null,
   "id": "84a5dc82",
   "metadata": {
    "id": "3R05bRKUoB-0",
    "papermill": {
     "duration": null,
     "end_time": null,
     "exception": null,
     "start_time": null,
     "status": "pending"
    },
    "tags": []
   },
   "outputs": [],
   "source": [
    "torch.manual_seed(SEED)\n",
    "model = generate_initial_model(K, width, device, get_grid,n_layers = n_layers)\n",
    "model_name = 'default_model'\n",
    "save_model_info(K,width,device,get_grid,n_layers,model_name,act = 'gelu',initialization = 'default')\n",
    "torch.save(model.state_dict(), 'models/untrained_models/' + model_name + '.pt')"
   ]
  },
  {
   "cell_type": "code",
   "execution_count": null,
   "id": "fc4c5c12",
   "metadata": {
    "id": "4g2-7P64oB8D",
    "papermill": {
     "duration": null,
     "end_time": null,
     "exception": null,
     "start_time": null,
     "status": "pending"
    },
    "tags": []
   },
   "outputs": [],
   "source": []
  },
  {
   "cell_type": "code",
   "execution_count": null,
   "id": "e6c884f5",
   "metadata": {
    "id": "SdKTQ6VsoB5Y",
    "papermill": {
     "duration": null,
     "end_time": null,
     "exception": null,
     "start_time": null,
     "status": "pending"
    },
    "tags": []
   },
   "outputs": [],
   "source": []
  },
  {
   "cell_type": "code",
   "execution_count": null,
   "id": "d9885aaf",
   "metadata": {
    "colab": {
     "base_uri": "https://localhost:8080/",
     "height": 304
    },
    "id": "LaDWwpY_oB1v",
    "outputId": "21049938-4910-4e3a-f54e-04ac65ee30a5",
    "papermill": {
     "duration": null,
     "end_time": null,
     "exception": null,
     "start_time": null,
     "status": "pending"
    },
    "tags": []
   },
   "outputs": [],
   "source": [
    "input_data = torch.load('data/smooth_training_data/A_to_chi1_tiny_256_input_data_256.pt')\n",
    "output_data = torch.load('data/smooth_training_data/A_to_chi1_tiny_256_output_data_256.pt')"
   ]
  },
  {
   "cell_type": "code",
   "execution_count": null,
   "id": "67d34bc1",
   "metadata": {
    "id": "a8vdpMWGoBzW",
    "papermill": {
     "duration": null,
     "end_time": null,
     "exception": null,
     "start_time": null,
     "status": "pending"
    },
    "tags": []
   },
   "outputs": [],
   "source": []
  },
  {
   "cell_type": "code",
   "execution_count": null,
   "id": "8d70256d",
   "metadata": {
    "id": "zXKFbgeSiJk1",
    "papermill": {
     "duration": null,
     "end_time": null,
     "exception": null,
     "start_time": null,
     "status": "pending"
    },
    "tags": []
   },
   "outputs": [],
   "source": []
  },
  {
   "cell_type": "code",
   "execution_count": null,
   "id": "63eb3bc3",
   "metadata": {
    "id": "TzS7iNvFgj1f",
    "papermill": {
     "duration": null,
     "end_time": null,
     "exception": null,
     "start_time": null,
     "status": "pending"
    },
    "tags": []
   },
   "outputs": [],
   "source": [
    "from analysis.eval_model_helpers import *\n",
    "from util.utilities_module import *\n",
    "from gen_GRF import *\n",
    "import torch\n",
    "import matplotlib.pyplot as plt\n",
    "import matplotlib\n",
    "import numpy as np\n",
    "import yaml"
   ]
  },
  {
   "cell_type": "code",
   "execution_count": null,
   "id": "0ec34062",
   "metadata": {
    "id": "m7c-TC7dgjyV",
    "papermill": {
     "duration": null,
     "end_time": null,
     "exception": null,
     "start_time": null,
     "status": "pending"
    },
    "tags": []
   },
   "outputs": [],
   "source": [
    "matplotlib.rcParams['mathtext.fontset'] = 'stix'\n",
    "matplotlib.rcParams['font.family'] = ['Dejavu Serif'] #'STIXGeneral'\n",
    "matplotlib.rcParams['mathtext.fontset'] = 'custom'\n",
    "CB_color_cycle = ['#377eb8', '#ff7f00', '#4daf4a',\n",
    "                  '#f781bf', '#a65628', '#984ea3',\n",
    "                  '#999999', '#e41a1c', '#dede00',\n",
    "                    '#000000']\n",
    "matplotlib.rcParams['mathtext.rm'] = 'stix'\n",
    "matplotlib.rcParams['mathtext.it'] = 'stix'\n",
    "matplotlib.rcParams['mathtext.bf'] = 'stix'\n",
    "\n",
    "\n",
    "matplotlib.rcParams[\"axes.formatter.limits\"] = (-99, 99) #makes scientific notation threshold high\n",
    "plt.rcParams['font.family'] = 'Dejavu Serif'\n",
    "plt.rcParams['font.serif'] = ['Times'] #['Times New Roman']  # 'DejaVu Serif' 'serif' 'Times\n",
    "\n",
    "tickfontsize = 33\n",
    "fontsize = 33\n",
    "linewidth = 4\n",
    "markersize = 15\n",
    "\n",
    "SMALL_SIZE = tickfontsize\n",
    "MEDIUM_SIZE = tickfontsize\n",
    "BIGGER_SIZE = fontsize\n",
    "\n",
    "plt.rc('font', size=SMALL_SIZE)          # controls default text sizes\n",
    "plt.rc('axes', titlesize=MEDIUM_SIZE)     # fontsize of the axes title\n",
    "plt.rc('axes', labelsize=MEDIUM_SIZE)    # fontsize of the x and y labels\n",
    "plt.rc('xtick', labelsize=MEDIUM_SIZE)    # fontsize of the tick labels\n",
    "plt.rc('ytick', labelsize=MEDIUM_SIZE)    # fontsize of the tick labels\n",
    "plt.rc('legend', fontsize=MEDIUM_SIZE)    # legend fontsize\n",
    "plt.rc('figure', titlesize=BIGGER_SIZE)  # fontsize of the figure title\n",
    "\n",
    "shapes = ['o','s','^','D','*', 'x', 'P', 'h', 'v', '<', '>', 'X', 'd', 'p', '|', '_', '.', ',']"
   ]
  },
  {
   "cell_type": "code",
   "execution_count": null,
   "id": "7f9750f0",
   "metadata": {
    "id": "CgXvZ3fagjvv",
    "papermill": {
     "duration": null,
     "end_time": null,
     "exception": null,
     "start_time": null,
     "status": "pending"
    },
    "tags": []
   },
   "outputs": [],
   "source": [
    "s_vals = [1,2]\n",
    "sizes = [ 64,128,256,512, 2048]\n",
    "plot_sizes = sizes[:-1]"
   ]
  },
  {
   "cell_type": "code",
   "execution_count": null,
   "id": "3ada07d8",
   "metadata": {
    "id": "FEEFCWbmgjs8",
    "papermill": {
     "duration": null,
     "end_time": null,
     "exception": null,
     "start_time": null,
     "status": "pending"
    },
    "tags": []
   },
   "outputs": [],
   "source": [
    "def get_err_norms(s,model_name, sizes):\n",
    "    # model_name = 'initial_model_K_12_0_all1'\n",
    "    model_info_path = 'models/untrained_models/' + model_name + '_info.yaml'\n",
    "    model_path = 'models/untrained_models/' + model_name + '.pt'\n",
    "\n",
    "    samp_count_model = 1\n",
    "    samp_count_input = 5\n",
    "    true_size = sizes[-1]\n",
    "\n",
    "    # Load model\n",
    "    model = FNO2d(modes1 = 12, modes2 = 12, width = 32,s_outputspace=(2048, 2048), get_grid = False, act = 'gelu', n_layers = 6, periodic_grid=True).to(device)\n",
    "    n_layers = 4\n",
    "\n",
    "    true_norms = torch.zeros(n_layers, samp_count_input)\n",
    "    all_err = torch.zeros(len(sizes)-1,n_layers, samp_count_model, samp_count_input)\n",
    "\n",
    "    for input_i in range(samp_count_input):\n",
    "        true_input_path = 'data/GRF_s' + str(s) +'/GRF_size_' + str(true_size) + '_' + str(input_i)+ '.pkl'\n",
    "        input_true = load_data(true_input_path)\n",
    "        input_true = input_true.unsqueeze(0).unsqueeze(0)\n",
    "        layers_true = get_layer_output(model,input_true)\n",
    "\n",
    "        for size_i, size in enumerate(sizes[:-1]):\n",
    "            disc_input_path = 'data/GRF_s' +str(s) + f'/GRF_size_{size}_'+ str(input_i)+'.pkl'\n",
    "            input_disc = load_data(disc_input_path)\n",
    "            input_disc = input_disc.unsqueeze(0).unsqueeze(0)\n",
    "            layers_disc = get_layer_output(model,input_disc)\n",
    "            for layer in range(n_layers):\n",
    "                err = torch.norm(layers_disc[layer] - layers_true[layer])\n",
    "                all_err[size_i,layer, 0, input_i] = err\n",
    "\n",
    "                true_norms[layer, input_i] = torch.norm(layers_true[layer])\n",
    "\n",
    "    all_err = all_err.detach().numpy()\n",
    "    true_norms = true_norms.detach().numpy()\n",
    "    all_err = all_err.reshape(len(sizes)-1,n_layers,samp_count_model*samp_count_input)\n",
    "\n",
    "    return all_err, true_norms"
   ]
  },
  {
   "cell_type": "code",
   "execution_count": null,
   "id": "b8320dd2",
   "metadata": {
    "id": "ciCvd2bXhdf9",
    "papermill": {
     "duration": null,
     "end_time": null,
     "exception": null,
     "start_time": null,
     "status": "pending"
    },
    "tags": []
   },
   "outputs": [],
   "source": [
    "def evaluate_model(model_name,s_vals,sizes):\n",
    "    all_err_s = []\n",
    "    true_norms_s = []\n",
    "    for s in s_vals:\n",
    "        all_err, true_norms = get_err_norms(s,model_name,sizes=sizes)\n",
    "        all_err_s.append(all_err)\n",
    "        true_norms_s.append(true_norms)\n",
    "\n",
    "    true_norms_s = np.array(true_norms_s)\n",
    "    all_err_s = np.array(all_err_s)\n",
    "    return all_err_s, true_norms_s"
   ]
  },
  {
   "cell_type": "code",
   "execution_count": null,
   "id": "45f8fee0",
   "metadata": {
    "id": "S-RGcmerhddH",
    "papermill": {
     "duration": null,
     "end_time": null,
     "exception": null,
     "start_time": null,
     "status": "pending"
    },
    "tags": []
   },
   "outputs": [],
   "source": [
    "def normalize_err(all_err_s,true_norms_s):\n",
    "    # Normalize all_err_s by true_norms_s\n",
    "    n_layers = true_norms_s.shape[1]\n",
    "    all_err_s = np.array(all_err_s)\n",
    "    n_samples = all_err_s.shape[-1]\n",
    "    all_err_s_norm = np.zeros((len(s_vals),len(plot_sizes),n_layers,n_samples))\n",
    "    for i in range(len(s_vals)):\n",
    "        for j in range(n_layers):\n",
    "            all_err_s_norm[i,:,j,:] = all_err_s[i,:,j,:] / true_norms_s[i,j,0]\n",
    "    return all_err_s_norm"
   ]
  },
  {
   "cell_type": "code",
   "execution_count": null,
   "id": "72eb4da2",
   "metadata": {
    "id": "LOY1ZHwchdaf",
    "papermill": {
     "duration": null,
     "end_time": null,
     "exception": null,
     "start_time": null,
     "status": "pending"
    },
    "tags": []
   },
   "outputs": [],
   "source": [
    "def plot_err_vs_N(all_err_s_norm,plot_sizes,plot_name):\n",
    "    fix, ax = plt.subplots(1,4, figsize=(40, 10))\n",
    "\n",
    "    for i, s in enumerate(s_vals):\n",
    "        all_err = all_err_s_norm[i]\n",
    "\n",
    "        all_err_mean = np.mean(all_err, axis = -1)\n",
    "        all_err_std = 2*np.std(all_err, axis = -1)\n",
    "\n",
    "        slopes = []\n",
    "\n",
    "        for layer in range(all_err.shape[1]):\n",
    "            ax[i].plot(plot_sizes,all_err_mean[:,layer],label = f'Layer {layer+1}',color = CB_color_cycle[layer],marker = shapes[layer],linewidth = linewidth,markersize = markersize)\n",
    "            ax[i].errorbar(plot_sizes, all_err_mean[:,layer], yerr=all_err_std[:,layer],color = CB_color_cycle[layer])\n",
    "            ax[i].fill_between(plot_sizes, all_err_mean[:,layer] - all_err_std[:,layer], all_err_mean[:,layer] + all_err_std[:,layer], alpha=0.2, color = CB_color_cycle[layer])\n",
    "\n",
    "            p = np.polyfit(np.log(plot_sizes), np.log(all_err_mean[:,layer]), 1)\n",
    "            slopes.append(p[0])\n",
    "\n",
    "        ax[i].set_title('s = ' + str(s) + f',    Average Slope = {np.mean(slopes):.2f}')\n",
    "        # logscale\n",
    "        ax[i].set_yscale('log')\n",
    "        # set y range\n",
    "        ax[i].set_ylim([np.min(all_err_s_norm)/2, np.max(all_err_s_norm)*2])\n",
    "        ax[i].set_xscale('log')\n",
    "        ax[i].set_xlabel('N')\n",
    "        ax[i].set_xticks([])\n",
    "        ax[i].xaxis.set_minor_locator(plt.NullLocator())\n",
    "\n",
    "        # no scientific notation x labels\n",
    "\n",
    "        ax[i].set_xticks(plot_sizes, plot_sizes)\n",
    "    ax[0].set_ylabel('Relative Error')\n",
    "    ax[0].legend()\n",
    "    ax[3].legend()\n",
    "    # save figure\n",
    "    plt.savefig('Figures/' + plot_name + '.pdf')"
   ]
  },
  {
   "cell_type": "code",
   "execution_count": null,
   "id": "e750632d",
   "metadata": {
    "id": "TM_OhjWvhdYA",
    "papermill": {
     "duration": null,
     "end_time": null,
     "exception": null,
     "start_time": null,
     "status": "pending"
    },
    "tags": []
   },
   "outputs": [],
   "source": [
    "def save_data(all_err_s, true_norms_s, all_err_s_norm, model_name):\n",
    "    save_path = 'Figures/figure-data/' + model_name + '_data.yaml'\n",
    "    data = {'all_err_s': all_err_s, 'true_norms_s': true_norms_s, 'all_err_s_norm': all_err_s_norm}\n",
    "    with open(save_path, 'w') as file:\n",
    "        yaml.dump(data, file)"
   ]
  },
  {
   "cell_type": "code",
   "execution_count": null,
   "id": "f2decc53",
   "metadata": {
    "colab": {
     "base_uri": "https://localhost:8080/",
     "height": 356
    },
    "id": "DUf_T5XihdVr",
    "outputId": "5e62d08a-7c04-4a6a-c024-01151ed556b5",
    "papermill": {
     "duration": null,
     "end_time": null,
     "exception": null,
     "start_time": null,
     "status": "pending"
    },
    "tags": []
   },
   "outputs": [],
   "source": [
    "model_name = 'default_model'\n",
    "all_err_s, true_norms_s = evaluate_model(model_name,s_vals, sizes)\n",
    "print(all_err_s.shape)\n",
    "all_err_s_norm = normalize_err(all_err_s,true_norms_s)\n",
    "save_data(all_err_s, true_norms_s, all_err_s_norm, model_name)"
   ]
  },
  {
   "cell_type": "code",
   "execution_count": null,
   "id": "e2f68372",
   "metadata": {
    "id": "TSgTWWUlhvBx",
    "papermill": {
     "duration": null,
     "end_time": null,
     "exception": null,
     "start_time": null,
     "status": "pending"
    },
    "tags": []
   },
   "outputs": [],
   "source": [
    "save_data(all_err_s, true_norms_s, all_err_s_norm, model_name)"
   ]
  },
  {
   "cell_type": "code",
   "execution_count": null,
   "id": "f19d8cb7",
   "metadata": {
    "colab": {
     "base_uri": "https://localhost:8080/",
     "height": 358
    },
    "id": "MeEmHisBD7a_",
    "outputId": "9c95b541-49b0-4fce-942f-a5d4753df147",
    "papermill": {
     "duration": null,
     "end_time": null,
     "exception": null,
     "start_time": null,
     "status": "pending"
    },
    "tags": []
   },
   "outputs": [],
   "source": [
    "plot_err_vs_N(all_err_s_norm,plot_sizes,'err_vs_N_default')"
   ]
  }
 ],
 "metadata": {
  "accelerator": "GPU",
  "colab": {
   "gpuType": "T4",
   "provenance": []
  },
  "kernelspec": {
   "display_name": "Python 3",
   "name": "python3"
  },
  "language_info": {
   "codemirror_mode": {
    "name": "ipython",
    "version": 3
   },
   "file_extension": ".py",
   "mimetype": "text/x-python",
   "name": "python",
   "nbconvert_exporter": "python",
   "pygments_lexer": "ipython3",
   "version": "3.11.11"
  },
  "papermill": {
   "default_parameters": {},
   "duration": 54.028248,
   "end_time": "2025-05-09T16:08:42.073065",
   "environment_variables": {},
   "exception": true,
   "input_path": "__notebook__.ipynb",
   "output_path": "__notebook__.ipynb",
   "parameters": {},
   "start_time": "2025-05-09T16:07:48.044817",
   "version": "2.6.0"
  }
 },
 "nbformat": 4,
 "nbformat_minor": 5
}
